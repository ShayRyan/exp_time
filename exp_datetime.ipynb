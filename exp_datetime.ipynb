{
 "cells": [
  {
   "cell_type": "code",
   "execution_count": 1,
   "metadata": {},
   "outputs": [],
   "source": [
    "import datetime as dt\n",
    "import time"
   ]
  },
  {
   "cell_type": "code",
   "execution_count": 2,
   "metadata": {},
   "outputs": [],
   "source": [
    "# (hours, minutes)\n",
    "start_time = dt.time(7, 0)"
   ]
  },
  {
   "cell_type": "code",
   "execution_count": 12,
   "metadata": {},
   "outputs": [],
   "source": [
    "# (year, month, day)\n",
    "start_date = dt.date(2021, 2, 22)"
   ]
  },
  {
   "cell_type": "code",
   "execution_count": 13,
   "metadata": {},
   "outputs": [
    {
     "data": {
      "text/plain": [
       "datetime.datetime(2021, 2, 22, 7, 0)"
      ]
     },
     "execution_count": 13,
     "metadata": {},
     "output_type": "execute_result"
    }
   ],
   "source": [
    "# create datetime object\n",
    "start_datetime = dt.datetime.combine(start_date, start_time)\n",
    "start_datetime"
   ]
  },
  {
   "cell_type": "code",
   "execution_count": 7,
   "metadata": {},
   "outputs": [
    {
     "data": {
      "text/plain": [
       "datetime.datetime(2021, 3, 11, 23, 59)"
      ]
     },
     "execution_count": 7,
     "metadata": {},
     "output_type": "execute_result"
    }
   ],
   "source": [
    "end_time = dt.time(23, 59)\n",
    "end_date = dt.date(2021, 3, 11)\n",
    "end_datetime = dt.datetime.combine(end_date, end_time)\n",
    "end_datetime"
   ]
  },
  {
   "cell_type": "code",
   "execution_count": 8,
   "metadata": {},
   "outputs": [],
   "source": [
    "# Differences between two datetimes are represented by timedelta objects\n",
    "timedelta_total = end_datetime - start_datetime"
   ]
  },
  {
   "cell_type": "code",
   "execution_count": 9,
   "metadata": {},
   "outputs": [
    {
     "data": {
      "text/plain": [
       "datetime.timedelta(days=21, seconds=61140)"
      ]
     },
     "execution_count": 9,
     "metadata": {},
     "output_type": "execute_result"
    }
   ],
   "source": [
    "# a timedelta has three values days, seconds, microseconds\n",
    "timedelta_total"
   ]
  },
  {
   "cell_type": "code",
   "execution_count": 10,
   "metadata": {},
   "outputs": [
    {
     "data": {
      "text/plain": [
       "datetime.datetime(2021, 3, 11, 23, 59)"
      ]
     },
     "execution_count": 10,
     "metadata": {},
     "output_type": "execute_result"
    }
   ],
   "source": [
    "# you can calculate a new datetime by adding a timedelta to a datetime\n",
    "end_time = start_datetime + timedelta_total\n",
    "end_time"
   ]
  },
  {
   "cell_type": "code",
   "execution_count": 14,
   "metadata": {},
   "outputs": [
    {
     "data": {
      "text/plain": [
       "datetime.datetime(2021, 3, 4, 7, 0)"
      ]
     },
     "execution_count": 14,
     "metadata": {},
     "output_type": "execute_result"
    }
   ],
   "source": [
    "# add 10 days to a datetime\n",
    "days10 = start_datetime + dt.timedelta(10)\n",
    "days10"
   ]
  },
  {
   "cell_type": "code",
   "execution_count": 10,
   "metadata": {},
   "outputs": [
    {
     "data": {
      "text/plain": [
       "datetime.datetime(2019, 8, 15, 7, 0)"
      ]
     },
     "execution_count": 10,
     "metadata": {},
     "output_type": "execute_result"
    }
   ],
   "source": [
    "# simple date arithmetic\n",
    "# takes account of leap years\n",
    "# one year from start\n",
    "year_away = start_datetime + dt.timedelta(365)\n",
    "year_away"
   ]
  },
  {
   "cell_type": "code",
   "execution_count": 11,
   "metadata": {},
   "outputs": [
    {
     "data": {
      "text/plain": [
       "1534312800.0"
      ]
     },
     "execution_count": 11,
     "metadata": {},
     "output_type": "execute_result"
    }
   ],
   "source": [
    "# timestamp - transform a datetime into a floating point referenced to the Unix epoch\n",
    "# the number of seconds from 1970-01-01 00:00Z\n",
    "unix_epoch = dt.datetime.timestamp(start_datetime)\n",
    "unix_epoch"
   ]
  },
  {
   "cell_type": "code",
   "execution_count": 12,
   "metadata": {},
   "outputs": [
    {
     "data": {
      "text/plain": [
       "datetime.datetime(2019, 7, 26, 3, 23, 43)"
      ]
     },
     "execution_count": 12,
     "metadata": {},
     "output_type": "execute_result"
    }
   ],
   "source": [
    "# and back again\n",
    "sdt = dt.datetime.fromtimestamp(1564107823)\n",
    "sdt"
   ]
  },
  {
   "cell_type": "code",
   "execution_count": 13,
   "metadata": {},
   "outputs": [
    {
     "data": {
      "text/plain": [
       "1585560009.4071493"
      ]
     },
     "execution_count": 13,
     "metadata": {},
     "output_type": "execute_result"
    }
   ],
   "source": [
    "# current time in epoch\n",
    "t = time.time()\n",
    "t"
   ]
  },
  {
   "cell_type": "code",
   "execution_count": 14,
   "metadata": {},
   "outputs": [
    {
     "data": {
      "text/plain": [
       "datetime.datetime(2020, 3, 30, 10, 20, 9, 407149)"
      ]
     },
     "execution_count": 14,
     "metadata": {},
     "output_type": "execute_result"
    }
   ],
   "source": [
    "# as datetime\n",
    "date_time = dt.datetime.fromtimestamp(t)\n",
    "date_time"
   ]
  },
  {
   "cell_type": "code",
   "execution_count": 15,
   "metadata": {},
   "outputs": [
    {
     "data": {
      "text/plain": [
       "'2020-03-30,10:20:09.407149'"
      ]
     },
     "execution_count": 15,
     "metadata": {},
     "output_type": "execute_result"
    }
   ],
   "source": [
    "# formatted\n",
    "fmt = \"%Y-%m-%d,%H:%M:%S.%f\"\n",
    "date_time.strftime(fmt)"
   ]
  },
  {
   "cell_type": "code",
   "execution_count": 16,
   "metadata": {},
   "outputs": [
    {
     "data": {
      "text/plain": [
       "2"
      ]
     },
     "execution_count": 16,
     "metadata": {},
     "output_type": "execute_result"
    }
   ],
   "source": [
    "# weekday 0 = Monday\n",
    "weekday_number = start_datetime.date().weekday()\n",
    "weekday_number"
   ]
  },
  {
   "cell_type": "code",
   "execution_count": 17,
   "metadata": {},
   "outputs": [
    {
     "data": {
      "text/plain": [
       "datetime.datetime(2018, 5, 7, 0, 0)"
      ]
     },
     "execution_count": 17,
     "metadata": {},
     "output_type": "execute_result"
    }
   ],
   "source": [
    "# converting datetime to and from strings\n",
    "new_datetime = dt.datetime.strptime('2018-05-07', '%Y-%m-%d')\n",
    "new_datetime"
   ]
  },
  {
   "cell_type": "code",
   "execution_count": 18,
   "metadata": {},
   "outputs": [
    {
     "name": "stdout",
     "output_type": "stream",
     "text": [
      "2018-05-07\n"
     ]
    }
   ],
   "source": [
    "datestr = new_datetime.strftime('%Y-%m-%d')\n",
    "print(datestr)"
   ]
  },
  {
   "cell_type": "code",
   "execution_count": 19,
   "metadata": {},
   "outputs": [
    {
     "name": "stdout",
     "output_type": "stream",
     "text": [
      "07 May 2018\n"
     ]
    }
   ],
   "source": [
    "datestr = new_datetime.strftime('%d %b %Y')\n",
    "print(datestr)"
   ]
  },
  {
   "cell_type": "code",
   "execution_count": 20,
   "metadata": {},
   "outputs": [
    {
     "name": "stdout",
     "output_type": "stream",
     "text": [
      "Mon May  7 00:00:00 2018\n"
     ]
    }
   ],
   "source": [
    "datestr = new_datetime.strftime('%c')\n",
    "print(datestr)"
   ]
  },
  {
   "cell_type": "code",
   "execution_count": 21,
   "metadata": {},
   "outputs": [
    {
     "name": "stdout",
     "output_type": "stream",
     "text": [
      "Mon Mar 30 10:21:25 2020 Week 13 Day 090\n"
     ]
    }
   ],
   "source": [
    "# lots of possibilities with Python's strftime directives\n",
    "# http://strftime.org/\n",
    "# https://pyformat.info/\n",
    "now = dt.datetime.now()\n",
    "nowstr = now.strftime('%c Week %W Day %j')\n",
    "print(nowstr)"
   ]
  },
  {
   "cell_type": "code",
   "execution_count": 23,
   "metadata": {},
   "outputs": [
    {
     "data": {
      "text/plain": [
       "1580551200.0"
      ]
     },
     "execution_count": 23,
     "metadata": {},
     "output_type": "execute_result"
    }
   ],
   "source": [
    "# convert datetime to epoch\n",
    "dt_fmt = '%Y-%m-%dT%H:%M:%S.%f'\n",
    "start_dt = '2020-02-01T10:00:00.0'\n",
    "start_dto = dt.datetime.strptime(start_dt, dt_fmt)\n",
    "start_epoch = dt.datetime.timestamp(start_dto)\n",
    "start_epoch"
   ]
  },
  {
   "cell_type": "code",
   "execution_count": 24,
   "metadata": {},
   "outputs": [
    {
     "data": {
      "text/plain": [
       "float"
      ]
     },
     "execution_count": 24,
     "metadata": {},
     "output_type": "execute_result"
    }
   ],
   "source": [
    "type(start_epoch)"
   ]
  },
  {
   "cell_type": "code",
   "execution_count": 26,
   "metadata": {},
   "outputs": [
    {
     "data": {
      "text/plain": [
       "1580561100.0"
      ]
     },
     "execution_count": 26,
     "metadata": {},
     "output_type": "execute_result"
    }
   ],
   "source": [
    "stop_dt = '2020-02-01T12:45:00.0'\n",
    "stop_dto = dt.datetime.strptime(stop_dt, dt_fmt)\n",
    "stop_epoch = dt.datetime.timestamp(stop_dto)\n",
    "stop_epoch"
   ]
  },
  {
   "cell_type": "code",
   "execution_count": 38,
   "metadata": {},
   "outputs": [
    {
     "name": "stdout",
     "output_type": "stream",
     "text": [
      "1580551200.0 : In Range; 0.0s after start, 9900.0s before end.\n",
      "1580561100.0 : In Range; 9900.0s after start, 0.0s before end.\n",
      "1580551230.8 : In Range; 30.799999952316284s after start, 9869.200000047684s before end.\n",
      "1580551000.9 : Before Start; 199.09999990463257s early.\n",
      "1580556300.0 : In Range; 5100.0s after start, 4800.0s before end.\n",
      "1580570200.0 : After Stop; 9100.0s late.\n"
     ]
    }
   ],
   "source": [
    "# Check if a timestamp is within range\n",
    "tstamps = [1580551200.0, 1580561100.0, 1580551230.8, 1580551000.9, 1580556300.0, 1580570200.0]\n",
    "for ts in tstamps:\n",
    "    relative_to_start = ts - start_epoch\n",
    "    relative_to_stop = stop_epoch - ts\n",
    "    if start_epoch <= ts <= stop_epoch:    # !!! The test !!! \n",
    "        print(f\"{ts} : In Range; {relative_to_start}s after start, {relative_to_stop}s before end.\")\n",
    "    else:\n",
    "        if ts < start_epoch:\n",
    "            print(f\"{ts} : Before Start; {relative_to_start*-1}s early.\")\n",
    "        else:\n",
    "            print(f\"{ts} : After Stop; {relative_to_stop*-1}s late.\")"
   ]
  },
  {
   "cell_type": "code",
   "execution_count": null,
   "metadata": {},
   "outputs": [],
   "source": []
  }
 ],
 "metadata": {
  "kernelspec": {
   "display_name": "Python 3",
   "language": "python",
   "name": "python3"
  },
  "language_info": {
   "codemirror_mode": {
    "name": "ipython",
    "version": 3
   },
   "file_extension": ".py",
   "mimetype": "text/x-python",
   "name": "python",
   "nbconvert_exporter": "python",
   "pygments_lexer": "ipython3",
   "version": "3.7.3"
  }
 },
 "nbformat": 4,
 "nbformat_minor": 2
}
