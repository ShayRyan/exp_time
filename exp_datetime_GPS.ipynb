{
 "cells": [
  {
   "cell_type": "markdown",
   "metadata": {},
   "source": [
    "# GPS Time and UTC conversion"
   ]
  },
  {
   "cell_type": "markdown",
   "metadata": {},
   "source": [
    "## Time - Introduction"
   ]
  },
  {
   "cell_type": "code",
   "execution_count": 1,
   "metadata": {},
   "outputs": [],
   "source": [
    "import datetime"
   ]
  },
  {
   "cell_type": "code",
   "execution_count": 2,
   "metadata": {},
   "outputs": [],
   "source": [
    "# Unix timestamp as a float\n",
    "unix_ts = 1557261145.816266"
   ]
  },
  {
   "cell_type": "code",
   "execution_count": 3,
   "metadata": {},
   "outputs": [
    {
     "data": {
      "text/plain": [
       "datetime.datetime(2019, 5, 7, 21, 32, 25, 816266)"
      ]
     },
     "execution_count": 3,
     "metadata": {},
     "output_type": "execute_result"
    }
   ],
   "source": [
    "# as datetime\n",
    "date_time = datetime.datetime.fromtimestamp(unix_ts)\n",
    "date_time"
   ]
  },
  {
   "cell_type": "code",
   "execution_count": 4,
   "metadata": {},
   "outputs": [
    {
     "data": {
      "text/plain": [
       "'2019-05-07, 21:32:25.816266'"
      ]
     },
     "execution_count": 4,
     "metadata": {},
     "output_type": "execute_result"
    }
   ],
   "source": [
    "# formatted. Specify format then call strftime on datetime object\n",
    "fmt = \"%Y-%m-%d, %H:%M:%S.%f\"\n",
    "date_time.strftime(fmt)"
   ]
  },
  {
   "cell_type": "code",
   "execution_count": 5,
   "metadata": {},
   "outputs": [
    {
     "data": {
      "text/plain": [
       "1"
      ]
     },
     "execution_count": 5,
     "metadata": {},
     "output_type": "execute_result"
    }
   ],
   "source": [
    "# weekday 0 = Monday\n",
    "weekday_number = date_time.date().weekday()\n",
    "weekday_number"
   ]
  },
  {
   "cell_type": "code",
   "execution_count": 6,
   "metadata": {},
   "outputs": [
    {
     "data": {
      "text/plain": [
       "datetime.datetime(2018, 5, 7, 0, 0)"
      ]
     },
     "execution_count": 6,
     "metadata": {},
     "output_type": "execute_result"
    }
   ],
   "source": [
    "# converting datetime to and from strings\n",
    "new_datetime = datetime.datetime.strptime('2018-05-07', '%Y-%m-%d')\n",
    "new_datetime"
   ]
  },
  {
   "cell_type": "code",
   "execution_count": 7,
   "metadata": {},
   "outputs": [
    {
     "name": "stdout",
     "output_type": "stream",
     "text": [
      "2018-05-07\n"
     ]
    }
   ],
   "source": [
    "datestr = new_datetime.strftime('%Y-%m-%d')\n",
    "print(datestr)"
   ]
  },
  {
   "cell_type": "code",
   "execution_count": 8,
   "metadata": {},
   "outputs": [
    {
     "name": "stdout",
     "output_type": "stream",
     "text": [
      "07 May 2018\n"
     ]
    }
   ],
   "source": [
    "datestr = new_datetime.strftime('%d %b %Y')\n",
    "print(datestr)"
   ]
  },
  {
   "cell_type": "code",
   "execution_count": 9,
   "metadata": {},
   "outputs": [
    {
     "name": "stdout",
     "output_type": "stream",
     "text": [
      "Mon May  7 00:00:00 2018\n"
     ]
    }
   ],
   "source": [
    "datestr = new_datetime.strftime('%c')\n",
    "print(datestr)"
   ]
  },
  {
   "cell_type": "code",
   "execution_count": 10,
   "metadata": {},
   "outputs": [
    {
     "name": "stdout",
     "output_type": "stream",
     "text": [
      "Thu Feb 18 23:33:12 2021; Week:07 Day:049\n"
     ]
    }
   ],
   "source": [
    "# lots of possibilities with Python's strftime directives\n",
    "# http://strftime.org/\n",
    "# https://pyformat.info/\n",
    "now = datetime.datetime.now()\n",
    "nowstr = now.strftime('%c; Week:%W Day:%j')\n",
    "print(nowstr)"
   ]
  },
  {
   "cell_type": "code",
   "execution_count": 11,
   "metadata": {},
   "outputs": [
    {
     "data": {
      "text/plain": [
       "datetime.datetime(2019, 7, 26, 5, 2, 37)"
      ]
     },
     "execution_count": 11,
     "metadata": {},
     "output_type": "execute_result"
    }
   ],
   "source": [
    "sshot = 'per_1564113757'\n",
    "sshot_date_time = datetime.datetime.fromtimestamp(int(sshot.split('_')[1]))\n",
    "sshot_date_time"
   ]
  },
  {
   "cell_type": "code",
   "execution_count": 12,
   "metadata": {},
   "outputs": [
    {
     "name": "stdout",
     "output_type": "stream",
     "text": [
      "2019 Jul 26\n"
     ]
    }
   ],
   "source": [
    "datestr = sshot_date_time.strftime('%Y %b %d')\n",
    "print(datestr)"
   ]
  },
  {
   "cell_type": "code",
   "execution_count": 13,
   "metadata": {},
   "outputs": [
    {
     "name": "stdout",
     "output_type": "stream",
     "text": [
      "05:02:37\n"
     ]
    }
   ],
   "source": [
    "timestr = sshot_date_time.strftime('%H:%M:%S')\n",
    "print(timestr)"
   ]
  },
  {
   "cell_type": "markdown",
   "metadata": {},
   "source": [
    "## Leap Seconds"
   ]
  },
  {
   "cell_type": "markdown",
   "metadata": {},
   "source": [
    "As of May 2019, there hve been 18 leap seconds since the GPS Epoch, Jan 6, 1980. Leap seconds are not added by GPS. This means that GPS time is ahead of UTC by the current number of leap seconds.  \n",
    "\n",
    "To convert UTC to GPS time, add the current leap seconds to UTC. To convert GPS time to UTC, subract leap seconds from GPS time.  \n",
    "\n",
    "Adding a leap second effectively stops UTC for one second (to allow the earth's rotation to catch up). GPS time continues so it gets ahead of UTC by 1 second. [US Navy bulletin](ftp://tycho.usno.navy.mil/pub/gps/leapsecnanu2016.txt)\n",
    "\n",
    "When a leap second is added, the UTC clock sequence is:  \n",
    " `31 DEC 2016 23 HOURS 59 MINUTES 59 SECONDS`  \n",
    " `31 DEC 2016 23 HOURS 59 MINUTES 60 SECONDS`  \n",
    " `01 JAN 2017 00 HOURS 00 MINUTES 00 SECONDS`  "
   ]
  },
  {
   "cell_type": "code",
   "execution_count": 14,
   "metadata": {},
   "outputs": [],
   "source": [
    "# May 2019, leap seconds = 18\n",
    "leapSec = 18"
   ]
  },
  {
   "cell_type": "code",
   "execution_count": 15,
   "metadata": {},
   "outputs": [
    {
     "data": {
      "text/plain": [
       "datetime.datetime(1980, 1, 6, 0, 0)"
      ]
     },
     "execution_count": 15,
     "metadata": {},
     "output_type": "execute_result"
    }
   ],
   "source": [
    "# GPS Epoch 1980-01-06 00:00:00\n",
    "gpsEpoch = datetime.datetime(1980, 1, 6, 0, 0, 0)\n",
    "gpsEpoch"
   ]
  },
  {
   "cell_type": "code",
   "execution_count": 16,
   "metadata": {},
   "outputs": [
    {
     "data": {
      "text/plain": [
       "datetime.timedelta(seconds=18)"
      ]
     },
     "execution_count": 16,
     "metadata": {},
     "output_type": "execute_result"
    }
   ],
   "source": [
    "leapSecDelta = datetime.timedelta(seconds=leapSec)\n",
    "leapSecDelta"
   ]
  },
  {
   "cell_type": "markdown",
   "metadata": {},
   "source": [
    "## Process to convert time to GPS time"
   ]
  },
  {
   "cell_type": "code",
   "execution_count": 17,
   "metadata": {},
   "outputs": [
    {
     "data": {
      "text/plain": [
       "datetime.datetime(2019, 5, 29, 14, 34)"
      ]
     },
     "execution_count": 17,
     "metadata": {},
     "output_type": "execute_result"
    }
   ],
   "source": [
    "# example time 2005-01-28 13:30:27.653187\n",
    "#myTime = datetime.datetime(2019, 1, 28, 13, 30, 27, 653187)\n",
    "myTime = datetime.datetime(2019, 5, 29, 14, 34)\n",
    "myTime"
   ]
  },
  {
   "cell_type": "code",
   "execution_count": 18,
   "metadata": {},
   "outputs": [
    {
     "data": {
      "text/plain": [
       "datetime.datetime(2019, 5, 29, 14, 34, 18)"
      ]
     },
     "execution_count": 18,
     "metadata": {},
     "output_type": "execute_result"
    }
   ],
   "source": [
    "# correct for leap seconds\n",
    "myTime += leapSecDelta\n",
    "myTime"
   ]
  },
  {
   "cell_type": "code",
   "execution_count": 19,
   "metadata": {},
   "outputs": [
    {
     "data": {
      "text/plain": [
       "datetime.timedelta(days=14388, seconds=52458)"
      ]
     },
     "execution_count": 19,
     "metadata": {},
     "output_type": "execute_result"
    }
   ],
   "source": [
    "# GPS time is expressed as the number of weeks since the GPS Epoch and \n",
    "# the number of seconds in thsi week. (Week, ToW)\n",
    "timeSinceGpsEpoch = myTime - gpsEpoch\n",
    "timeSinceGpsEpoch"
   ]
  },
  {
   "cell_type": "code",
   "execution_count": 20,
   "metadata": {},
   "outputs": [],
   "source": [
    "gpsWeek, days = divmod(timeSinceGpsEpoch.days, 7)"
   ]
  },
  {
   "cell_type": "code",
   "execution_count": 21,
   "metadata": {},
   "outputs": [
    {
     "data": {
      "text/plain": [
       "2055"
      ]
     },
     "execution_count": 21,
     "metadata": {},
     "output_type": "execute_result"
    }
   ],
   "source": [
    "gpsWeek"
   ]
  },
  {
   "cell_type": "code",
   "execution_count": 22,
   "metadata": {},
   "outputs": [
    {
     "data": {
      "text/plain": [
       "311658.0"
      ]
     },
     "execution_count": 22,
     "metadata": {},
     "output_type": "execute_result"
    }
   ],
   "source": [
    "# ToW = (days this week * seconds per day) + seconds today + microseconds\n",
    "gpsTow = (days * 86400) + timeSinceGpsEpoch.seconds + (timeSinceGpsEpoch.microseconds / 1e6)\n",
    "gpsTow"
   ]
  },
  {
   "cell_type": "code",
   "execution_count": 23,
   "metadata": {},
   "outputs": [
    {
     "name": "stdout",
     "output_type": "stream",
     "text": [
      "UTC = 2019-05-29, 14:34:18.000000 -> GPS = 2055, 311658.0\n"
     ]
    }
   ],
   "source": [
    "print(f'UTC = {myTime.strftime(fmt)} -> GPS = {gpsWeek}, {gpsTow}')"
   ]
  },
  {
   "cell_type": "markdown",
   "metadata": {},
   "source": [
    "## Process to convert GPS time to UTC (naive)"
   ]
  },
  {
   "cell_type": "code",
   "execution_count": 24,
   "metadata": {},
   "outputs": [],
   "source": [
    "gpsTime = (2038, 135045.653187)"
   ]
  },
  {
   "cell_type": "code",
   "execution_count": 25,
   "metadata": {},
   "outputs": [],
   "source": [
    "gpsWeek, gpsTow = gpsTime"
   ]
  },
  {
   "cell_type": "code",
   "execution_count": 26,
   "metadata": {},
   "outputs": [
    {
     "data": {
      "text/plain": [
       "0.653186999988975"
      ]
     },
     "execution_count": 26,
     "metadata": {},
     "output_type": "execute_result"
    }
   ],
   "source": [
    "# extract microseconds - but floating point ops will introduce an error\n",
    "gpsUsec = gpsTow - int(gpsTow)\n",
    "gpsUsec"
   ]
  },
  {
   "cell_type": "code",
   "execution_count": 27,
   "metadata": {},
   "outputs": [],
   "source": [
    "gpsWeekDays = gpsWeek * 7 "
   ]
  },
  {
   "cell_type": "code",
   "execution_count": 28,
   "metadata": {},
   "outputs": [],
   "source": [
    "gpsTowDays, gpsTowSeconds = divmod(gpsTow, 86400) "
   ]
  },
  {
   "cell_type": "code",
   "execution_count": 29,
   "metadata": {},
   "outputs": [
    {
     "data": {
      "text/plain": [
       "14267"
      ]
     },
     "execution_count": 29,
     "metadata": {},
     "output_type": "execute_result"
    }
   ],
   "source": [
    "gpsDays = int(gpsWeekDays + gpsTowDays)\n",
    "gpsDays"
   ]
  },
  {
   "cell_type": "code",
   "execution_count": 30,
   "metadata": {},
   "outputs": [
    {
     "data": {
      "text/plain": [
       "48645"
      ]
     },
     "execution_count": 30,
     "metadata": {},
     "output_type": "execute_result"
    }
   ],
   "source": [
    "gpsSeconds = int(gpsTowSeconds)\n",
    "gpsSeconds"
   ]
  },
  {
   "cell_type": "code",
   "execution_count": 31,
   "metadata": {},
   "outputs": [
    {
     "data": {
      "text/plain": [
       "653186"
      ]
     },
     "execution_count": 31,
     "metadata": {},
     "output_type": "execute_result"
    }
   ],
   "source": [
    "gpsMicroseconds = int((gpsTowSeconds - gpsSeconds) * 1e6)\n",
    "gpsMicroseconds"
   ]
  },
  {
   "cell_type": "code",
   "execution_count": 32,
   "metadata": {},
   "outputs": [],
   "source": [
    "utcTime = gpsEpoch + datetime.timedelta(days=gpsDays, seconds=gpsSeconds, microseconds=gpsMicroseconds)"
   ]
  },
  {
   "cell_type": "code",
   "execution_count": 33,
   "metadata": {},
   "outputs": [
    {
     "data": {
      "text/plain": [
       "datetime.datetime(2019, 1, 28, 13, 30, 27, 653186)"
      ]
     },
     "execution_count": 33,
     "metadata": {},
     "output_type": "execute_result"
    }
   ],
   "source": [
    "# correct for leap seconds\n",
    "utcTime -= leapSecDelta\n",
    "utcTime"
   ]
  },
  {
   "cell_type": "code",
   "execution_count": 34,
   "metadata": {},
   "outputs": [
    {
     "name": "stdout",
     "output_type": "stream",
     "text": [
      "2019-01-28, 13:30:27.653186\n"
     ]
    }
   ],
   "source": [
    "print(utcTime.strftime(fmt))"
   ]
  },
  {
   "cell_type": "markdown",
   "metadata": {},
   "source": [
    "## Functions"
   ]
  },
  {
   "cell_type": "code",
   "execution_count": 35,
   "metadata": {},
   "outputs": [],
   "source": [
    "def datetime_to_gps(dt, ls):\n",
    "    '''Convert a date time to GPS time.\n",
    "    GPS time does not include leap seconds.\n",
    "    Leap seconds must be added to date time before conversion.\n",
    "    \n",
    "    Receives datetime object, leap seconds\n",
    "    Returns GPS time in Weeks since GPS Epoch and Seconds of current week.\n",
    "    \n",
    "    '''\n",
    "    \n",
    "    gpsEpoch = datetime.datetime(1980, 1, 6, 0, 0, 0, 0)\n",
    "    \n",
    "    # adjust given date time for leap seonds \n",
    "    dt += datetime.timedelta(seconds=ls)\n",
    "    \n",
    "    timeSinceGpsEpoch = dt - gpsEpoch\n",
    "    \n",
    "    gpsWeek, days = divmod(timeSinceGpsEpoch.days, 7)\n",
    "    gpsTow = (days * 86400) + timeSinceGpsEpoch.seconds + (timeSinceGpsEpoch.microseconds / 1e6)\n",
    "    \n",
    "    return (gpsWeek, gpsTow)"
   ]
  },
  {
   "cell_type": "code",
   "execution_count": 36,
   "metadata": {},
   "outputs": [],
   "source": [
    "def gps_to_datetime(wks, tow, leaps):\n",
    "    '''Convert a GPS time to a naive date time object.\n",
    "        \n",
    "    Receives GPS time in weeks since GPS Epoch, seconds of current week,\n",
    "    leap seconds since GPS epoch.\n",
    "    \n",
    "    Returns datetime object.\n",
    "    \n",
    "    '''\n",
    "    \n",
    "    gpsEpoch = datetime.datetime(1980, 1, 6, 0, 0, 0)\n",
    "    \n",
    "    gpsWeekDays = wks * 7\n",
    "    gpsTowDays, gpsTowSeconds = divmod(tow, 86400)\n",
    "    \n",
    "    gpsDays = int(gpsWeekDays + gpsTowDays)\n",
    "    gpsSeconds = int(gpsTowSeconds)\n",
    "    gpsMicroseconds = int((gpsTowSeconds - gpsSeconds) * 1e6)\n",
    "    \n",
    "    utcTime = gpsEpoch + datetime.timedelta(days=gpsDays, seconds=gpsSeconds, microseconds=gpsMicroseconds)\n",
    "    \n",
    "    # adjust for leap seconds\n",
    "    utcTime -= datetime.timedelta(seconds=leaps)\n",
    "    \n",
    "    return utcTime"
   ]
  },
  {
   "cell_type": "markdown",
   "metadata": {},
   "source": [
    "# Testing"
   ]
  },
  {
   "cell_type": "markdown",
   "metadata": {},
   "source": [
    "### Test 1"
   ]
  },
  {
   "cell_type": "code",
   "execution_count": 37,
   "metadata": {},
   "outputs": [
    {
     "data": {
      "text/plain": [
       "datetime.datetime(2019, 5, 13, 13, 48, 39, 268192)"
      ]
     },
     "execution_count": 37,
     "metadata": {},
     "output_type": "execute_result"
    }
   ],
   "source": [
    "time1 = gps_to_datetime(2053, 136137.268193, 18)\n",
    "time1"
   ]
  },
  {
   "cell_type": "code",
   "execution_count": 38,
   "metadata": {},
   "outputs": [
    {
     "data": {
      "text/plain": [
       "(2053, 136137.268192)"
      ]
     },
     "execution_count": 38,
     "metadata": {},
     "output_type": "execute_result"
    }
   ],
   "source": [
    "gps1 = datetime_to_gps(time1, 18)\n",
    "gps1"
   ]
  },
  {
   "cell_type": "markdown",
   "metadata": {},
   "source": [
    "### Test 2"
   ]
  },
  {
   "cell_type": "code",
   "execution_count": 39,
   "metadata": {},
   "outputs": [
    {
     "name": "stdout",
     "output_type": "stream",
     "text": [
      "2021-02-18, 23:33:48.751019\n"
     ]
    }
   ],
   "source": [
    "time2 = datetime.datetime.now()\n",
    "print(time2.strftime(fmt))"
   ]
  },
  {
   "cell_type": "code",
   "execution_count": 40,
   "metadata": {},
   "outputs": [
    {
     "data": {
      "text/plain": [
       "(2145, 430446.751019)"
      ]
     },
     "execution_count": 40,
     "metadata": {},
     "output_type": "execute_result"
    }
   ],
   "source": [
    "gps2 = datetime_to_gps(time2, 18)\n",
    "gps2"
   ]
  },
  {
   "cell_type": "code",
   "execution_count": 41,
   "metadata": {},
   "outputs": [
    {
     "data": {
      "text/plain": [
       "datetime.datetime(2021, 2, 18, 23, 33, 48, 751019)"
      ]
     },
     "execution_count": 41,
     "metadata": {},
     "output_type": "execute_result"
    }
   ],
   "source": [
    "gps_to_datetime(gps2[0], gps2[1], 18)"
   ]
  },
  {
   "cell_type": "code",
   "execution_count": 42,
   "metadata": {},
   "outputs": [
    {
     "name": "stdout",
     "output_type": "stream",
     "text": [
      "2021-02-18, 23:33:48.751019\n"
     ]
    }
   ],
   "source": [
    "print(gps_to_datetime(gps2[0], gps2[1], 18).strftime(fmt))"
   ]
  },
  {
   "cell_type": "markdown",
   "metadata": {},
   "source": [
    "### General"
   ]
  },
  {
   "cell_type": "code",
   "execution_count": 43,
   "metadata": {},
   "outputs": [
    {
     "data": {
      "text/plain": [
       "'2019-05-07, 20:48:11.485291'"
      ]
     },
     "execution_count": 43,
     "metadata": {},
     "output_type": "execute_result"
    }
   ],
   "source": [
    "# convert GPS time to UTC (naive)\n",
    "gps_to_datetime(2052, 247709.485292, 18).strftime(fmt)"
   ]
  },
  {
   "cell_type": "code",
   "execution_count": 44,
   "metadata": {},
   "outputs": [
    {
     "data": {
      "text/plain": [
       "(2052, 251309.519499)"
      ]
     },
     "execution_count": 44,
     "metadata": {},
     "output_type": "execute_result"
    }
   ],
   "source": [
    "# convert unix timestamp to GPS time\n",
    "datetime_to_gps(datetime.datetime.fromtimestamp(1557262091.519499), 18)"
   ]
  },
  {
   "cell_type": "code",
   "execution_count": 45,
   "metadata": {},
   "outputs": [
    {
     "data": {
      "text/plain": [
       "'2019-05-07, 21:48:11.519499'"
      ]
     },
     "execution_count": 45,
     "metadata": {},
     "output_type": "execute_result"
    }
   ],
   "source": [
    "# print date time of unix timestamp\n",
    "datetime.datetime.fromtimestamp(1557262091.519499).strftime(fmt)"
   ]
  },
  {
   "cell_type": "code",
   "execution_count": 46,
   "metadata": {},
   "outputs": [
    {
     "data": {
      "text/plain": [
       "1557258491.485291"
      ]
     },
     "execution_count": 46,
     "metadata": {},
     "output_type": "execute_result"
    }
   ],
   "source": [
    "# convert GPS time to unix timestamp\n",
    "datetime.datetime.timestamp(gps_to_datetime(2052, 247709.485292, 18))"
   ]
  },
  {
   "cell_type": "code",
   "execution_count": 47,
   "metadata": {},
   "outputs": [
    {
     "data": {
      "text/plain": [
       "3600.0393228530884"
      ]
     },
     "execution_count": 47,
     "metadata": {},
     "output_type": "execute_result"
    }
   ],
   "source": [
    "# difference between a unix timestamp and a GPS time\n",
    "unixTime = 1557262091.674614\n",
    "gpsTime = (2052, 247709.635292)\n",
    "unixTime - datetime.datetime.timestamp(gps_to_datetime(gpsTime[0], gpsTime[1], 18))"
   ]
  },
  {
   "cell_type": "code",
   "execution_count": null,
   "metadata": {},
   "outputs": [],
   "source": []
  },
  {
   "cell_type": "code",
   "execution_count": null,
   "metadata": {},
   "outputs": [],
   "source": []
  }
 ],
 "metadata": {
  "kernelspec": {
   "display_name": "Python 3",
   "language": "python",
   "name": "python3"
  },
  "language_info": {
   "codemirror_mode": {
    "name": "ipython",
    "version": 3
   },
   "file_extension": ".py",
   "mimetype": "text/x-python",
   "name": "python",
   "nbconvert_exporter": "python",
   "pygments_lexer": "ipython3",
   "version": "3.7.3"
  }
 },
 "nbformat": 4,
 "nbformat_minor": 2
}
