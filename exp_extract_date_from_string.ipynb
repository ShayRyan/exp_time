{
 "cells": [
  {
   "cell_type": "code",
   "execution_count": 1,
   "metadata": {
    "collapsed": true
   },
   "outputs": [],
   "source": [
    "import re"
   ]
  },
  {
   "cell_type": "code",
   "execution_count": 3,
   "metadata": {
    "collapsed": true
   },
   "outputs": [],
   "source": [
    "# find a date in a string\n",
    "def find_date(text):\n",
    "    idxs = []\n",
    "    pattern = r'\\d{2}\\s{1}[A-Za-z]{3}\\s{1}\\d{4}'\n",
    "    for match in re.finditer(pattern, text):\n",
    "        s = match.start()\n",
    "        e = match.end()\n",
    "        idxs.append((s, e))\n",
    "\n",
    "    return idxs"
   ]
  },
  {
   "cell_type": "code",
   "execution_count": 47,
   "metadata": {},
   "outputs": [],
   "source": [
    "# print the dates\n",
    "def print_dates(s, date_idxs):\n",
    "    for t in date_idxs:\n",
    "        print(s[t[0]:t[1]])"
   ]
  },
  {
   "cell_type": "code",
   "execution_count": 87,
   "metadata": {
    "collapsed": true
   },
   "outputs": [],
   "source": [
    "#s = '18 Dec 2009BALANCE FORWARD23949.30Interest'\n",
    "# 18 Dec 2009\n",
    "# pass\n",
    "#\n",
    "s = '8 Dec 2009BALANCE FORWARD23949.30Interest'\n",
    "# 8 Dec 2009\n",
    "# fail\n",
    "# single digit dates. singel digit date atstart of string\n",
    "#\n",
    "#s = '09 Dec 2009OP/E.S.B. SUPPLY24.1823625.1210 Dec 2009TELECOM EIREANN PE822.2724447.39'\n",
    "# 09 Dec 2009\n",
    "# 10 Dec 2009\n",
    "# pass\n",
    "#\n",
    "#  = 'Ltd.12.0026439.004 Dec 2009D.S.F.A SDM EFT230.3026669.3020Surcharges'\n",
    "# 4 Dec 2009\n",
    "# pass\n",
    "#\n",
    "#s = 'FT230.3031762.1730 Nov 2009RA LONDISCASTLEBRI200.0028NOV09 TIME 13:23315'\n",
    "# 30 Nov 2009\n",
    "# pass\n",
    "#\n",
    "#s = 'CASTLEBRI200.0028NOV09 TIME 13:2331562.171 Dec 2009*INET   AIB VISA111.175007175000.0026451.003 Dec 2009CLC Opticare Ltd.12.0026439.004 Dec 2009D.S.F.A SDM EFT230.3026669.307 Dec 2009ATM WEXFORD 1220.00Surch'\n",
    "# 1 Dec 2009\n",
    "# 3 Dec 2009\n",
    "# 4 Dec 2009\n",
    "# 7 Dec 2009\n",
    "# fail\n",
    "# single digit dates. Wrongly interprets preceding charatcter as part of the date"
   ]
  },
  {
   "cell_type": "code",
   "execution_count": 56,
   "metadata": {},
   "outputs": [
    {
     "data": {
      "text/plain": [
       "[]"
      ]
     },
     "execution_count": 56,
     "metadata": {},
     "output_type": "execute_result"
    }
   ],
   "source": [
    "date_idxs = find_date(s)\n",
    "date_idxs"
   ]
  },
  {
   "cell_type": "code",
   "execution_count": 57,
   "metadata": {},
   "outputs": [],
   "source": [
    "print_dates(s, date_idxs)"
   ]
  },
  {
   "cell_type": "code",
   "execution_count": 61,
   "metadata": {},
   "outputs": [],
   "source": [
    "# find a date in a string\n",
    "# 2- allow for single digit dates\n",
    "\n",
    "def find_date2(text):\n",
    "    idxs = []\n",
    "    pattern = r'\\d{2}\\s{1}[A-Za-z]{3}\\s{1}\\d{4}'\n",
    "    for match in re.finditer(pattern, text):\n",
    "        s = match.start()\n",
    "        e = match.end()\n",
    "\n",
    "        # but, the day can be 1 or 2 digits\n",
    "        # if day is 1 digit then the character 2 places left will be '.'\n",
    "        # in this case adjust the start index by shifting 1 place to right\n",
    "        if text[s-2] == '.':\n",
    "            s = s+1\n",
    "        \n",
    "        idxs.append((s, e))\n",
    "        \n",
    "    return idxs"
   ]
  },
  {
   "cell_type": "code",
   "execution_count": 59,
   "metadata": {},
   "outputs": [
    {
     "data": {
      "text/plain": [
       "[]"
      ]
     },
     "execution_count": 59,
     "metadata": {},
     "output_type": "execute_result"
    }
   ],
   "source": [
    "date_idxs = find_date2(s)\n",
    "date_idxs"
   ]
  },
  {
   "cell_type": "code",
   "execution_count": 60,
   "metadata": {},
   "outputs": [],
   "source": [
    "print_dates(s, date_idxs)"
   ]
  },
  {
   "cell_type": "code",
   "execution_count": 98,
   "metadata": {
    "collapsed": true
   },
   "outputs": [],
   "source": [
    "# find a date in a string\n",
    "# 2- allow for single digit dates\n",
    "# 3- allow string to start with single digit date\n",
    "\n",
    "def find_date3(text):\n",
    "    idxs = []\n",
    "    pattern = r'\\d{1,2}\\s{1}[A-Za-z]{3}\\s{1}\\d{4}'\n",
    "    for match in re.finditer(pattern, text):\n",
    "        s = match.start()\n",
    "        e = match.end()\n",
    "\n",
    "        # but, the day can be 1 or 2 digits\n",
    "        # if day is 1 digit then the character 2 places left will be '.'\n",
    "        # in this case adjust the start index by shifting 1 place to right\n",
    "        if text[s-2] == '.':\n",
    "            s = s+1\n",
    "        \n",
    "        print(\"text: {}\".format(text))\n",
    "        print(\"s = {}\".format(s))\n",
    "        print(\"char at index start   = {}\".format(text[s]))\n",
    "        print(\"char at index start-1 = {}\".format(text[s-1]))\n",
    "        print(\"char at index start-2 = {}\".format(text[s-2]))\n",
    "        \n",
    "        idxs.append((s, e))\n",
    "        \n",
    "    return idxs"
   ]
  },
  {
   "cell_type": "code",
   "execution_count": 99,
   "metadata": {},
   "outputs": [
    {
     "name": "stdout",
     "output_type": "stream",
     "text": [
      "text: 8 Dec 2009BALANCE FORWARD23949.30Interest\n",
      "s = 0\n",
      "char at index start   = 8\n",
      "char at index start-1 = t\n",
      "char at index start-2 = s\n"
     ]
    },
    {
     "data": {
      "text/plain": [
       "[(0, 10)]"
      ]
     },
     "execution_count": 99,
     "metadata": {},
     "output_type": "execute_result"
    }
   ],
   "source": [
    "date_idxs = find_date3(s)\n",
    "date_idxs"
   ]
  },
  {
   "cell_type": "code",
   "execution_count": 90,
   "metadata": {},
   "outputs": [
    {
     "name": "stdout",
     "output_type": "stream",
     "text": [
      "8 Dec 2009\n"
     ]
    }
   ],
   "source": [
    "print_dates(s, date_idxs)"
   ]
  },
  {
   "cell_type": "code",
   "execution_count": 91,
   "metadata": {},
   "outputs": [
    {
     "data": {
      "text/plain": [
       "'8 Dec 2009BALANCE FORWARD23949.30Interest'"
      ]
     },
     "execution_count": 91,
     "metadata": {},
     "output_type": "execute_result"
    }
   ],
   "source": [
    "s"
   ]
  },
  {
   "cell_type": "code",
   "execution_count": null,
   "metadata": {
    "collapsed": true
   },
   "outputs": [],
   "source": []
  }
 ],
 "metadata": {
  "kernelspec": {
   "display_name": "Python 3",
   "language": "python",
   "name": "python3"
  },
  "language_info": {
   "codemirror_mode": {
    "name": "ipython",
    "version": 3
   },
   "file_extension": ".py",
   "mimetype": "text/x-python",
   "name": "python",
   "nbconvert_exporter": "python",
   "pygments_lexer": "ipython3",
   "version": "3.6.1"
  }
 },
 "nbformat": 4,
 "nbformat_minor": 2
}
